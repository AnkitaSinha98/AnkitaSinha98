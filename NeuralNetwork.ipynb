{
  "nbformat": 4,
  "nbformat_minor": 0,
  "metadata": {
    "colab": {
      "name": "NeuralNetwork.ipynb",
      "provenance": [],
      "authorship_tag": "ABX9TyNIgP+tFQy7EYC5RvD43XqH",
      "include_colab_link": true
    },
    "kernelspec": {
      "name": "python3",
      "display_name": "Python 3"
    }
  },
  "cells": [
    {
      "cell_type": "markdown",
      "metadata": {
        "id": "view-in-github",
        "colab_type": "text"
      },
      "source": [
        "<a href=\"https://colab.research.google.com/github/AnkitaSinha98/AnkitaSinha98/blob/main/NeuralNetwork.ipynb\" target=\"_parent\"><img src=\"https://colab.research.google.com/assets/colab-badge.svg\" alt=\"Open In Colab\"/></a>"
      ]
    },
    {
      "cell_type": "code",
      "metadata": {
        "id": "auQ8Ik6epAFK"
      },
      "source": [
        "import numpy as np"
      ],
      "execution_count": null,
      "outputs": []
    },
    {
      "cell_type": "code",
      "metadata": {
        "id": "nZCtaYKOp-D6"
      },
      "source": [
        "def nonlin(x,deriv=False):\r\n",
        "    if(deriv==True):\r\n",
        "        return x*(1-x)\r\n",
        "    return 1/(1+np.exp(-x))"
      ],
      "execution_count": 13,
      "outputs": []
    },
    {
      "cell_type": "code",
      "metadata": {
        "id": "CKS7CpQFqjgq"
      },
      "source": [
        "X = np.array([  [0,0,1],\r\n",
        "                [0,1,1],\r\n",
        "                [1,0,1],\r\n",
        "                [1,1,1] ])"
      ],
      "execution_count": 14,
      "outputs": []
    },
    {
      "cell_type": "code",
      "metadata": {
        "id": "VRSD9qG7qjtx"
      },
      "source": [
        "y = np.array([[0,0,1,1]]).T"
      ],
      "execution_count": 15,
      "outputs": []
    },
    {
      "cell_type": "code",
      "metadata": {
        "id": "aCRgrsSarJ-Q"
      },
      "source": [
        "np.random.seed(1)"
      ],
      "execution_count": 16,
      "outputs": []
    },
    {
      "cell_type": "code",
      "metadata": {
        "id": "StFEs-SArVUc"
      },
      "source": [
        "syn0 = 2*np.random.random((3,1)) -1"
      ],
      "execution_count": 17,
      "outputs": []
    },
    {
      "cell_type": "code",
      "metadata": {
        "id": "JsiXtaI8rgAe",
        "colab": {
          "base_uri": "https://localhost:8080/"
        },
        "outputId": "02713094-abf7-4d69-995d-c96965845a07"
      },
      "source": [
        "for itr in range(1000):\r\n",
        "    l0 = X\r\n",
        "    l1 = nonlin(np.dot(l0,syn0))\r\n",
        "    \r\n",
        "    l1_error = y - l1\r\n",
        "\r\n",
        "    l1_delta = l1_error * nonlin(l1,True)\r\n",
        "    \r\n",
        "    syn0 += np.dot(l0.T,l1_delta)\r\n",
        "    \r\n",
        "print(\"Output after training\")\r\n",
        "print(l1)"
      ],
      "execution_count": 18,
      "outputs": [
        {
          "output_type": "stream",
          "text": [
            "Output after training\n",
            "[[0.03178421]\n",
            " [0.02576499]\n",
            " [0.97906682]\n",
            " [0.97414645]]\n"
          ],
          "name": "stdout"
        }
      ]
    }
  ]
}